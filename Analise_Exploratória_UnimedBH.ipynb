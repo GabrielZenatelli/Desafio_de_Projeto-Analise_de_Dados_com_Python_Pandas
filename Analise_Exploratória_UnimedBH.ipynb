{
 "cells": [
  {
   "cell_type": "code",
   "execution_count": 194,
   "outputs": [],
   "source": [
    "# Importando bibliotecas\n",
    "import pandas as pd\n",
    "import matplotlib.pyplot as plt\n",
    "import numpy as np"
   ],
   "metadata": {
    "collapsed": false,
    "pycharm": {
     "name": "#%%\n"
    }
   }
  },
  {
   "cell_type": "code",
   "execution_count": 195,
   "outputs": [],
   "source": [
    "# Importando dataframe\n",
    "df = pd.read_excel('AdventureWorks.xlsx')"
   ],
   "metadata": {
    "collapsed": false,
    "pycharm": {
     "name": "#%%\n"
    }
   }
  },
  {
   "cell_type": "code",
   "execution_count": 196,
   "outputs": [
    {
     "data": {
      "text/plain": "  Data Venda Data Envio  ID Loja  ID Produto  ID Cliente       No. Venda  \\\n0 2008-05-09 2008-05-29      199         384       18839  200805093CS607   \n1 2008-05-12 2008-05-17      306         384       19051  200805123CS567   \n2 2008-05-14 2008-05-20      306         384       19052  200805143CS576   \n3 2008-05-21 2008-05-27      306         384       19052  200805213CS576   \n4 2008-06-20 2008-06-27      306         384       19053  200806203CS586   \n\n        Custo Unitário       Preço Unitário  Quantidade       Valor Desconto  \\\n0               348.58               758.00           6                 0.00   \n1               348.58               758.00           6                 0.00   \n2               348.58               758.00           6                 0.00   \n3               348.58               758.00           6                 0.00   \n4               348.58               758.00           6                 0.00   \n\n           Valor Venda                                Produto  \\\n0             4,548.00  Adventure Works Laptop15.4W M1548 Red   \n1             4,548.00  Adventure Works Laptop15.4W M1548 Red   \n2             4,548.00  Adventure Works Laptop15.4W M1548 Red   \n3             4,548.00  Adventure Works Laptop15.4W M1548 Red   \n4             4,548.00  Adventure Works Laptop15.4W M1548 Red   \n\n        Fabricante            Marca   Classe  Cor  \n0  Adventure Works  Adventure Works  Regular  Red  \n1  Adventure Works  Adventure Works  Regular  Red  \n2  Adventure Works  Adventure Works  Regular  Red  \n3  Adventure Works  Adventure Works  Regular  Red  \n4  Adventure Works  Adventure Works  Regular  Red  ",
      "text/html": "<div>\n<style scoped>\n    .dataframe tbody tr th:only-of-type {\n        vertical-align: middle;\n    }\n\n    .dataframe tbody tr th {\n        vertical-align: top;\n    }\n\n    .dataframe thead th {\n        text-align: right;\n    }\n</style>\n<table border=\"1\" class=\"dataframe\">\n  <thead>\n    <tr style=\"text-align: right;\">\n      <th></th>\n      <th>Data Venda</th>\n      <th>Data Envio</th>\n      <th>ID Loja</th>\n      <th>ID Produto</th>\n      <th>ID Cliente</th>\n      <th>No. Venda</th>\n      <th>Custo Unitário</th>\n      <th>Preço Unitário</th>\n      <th>Quantidade</th>\n      <th>Valor Desconto</th>\n      <th>Valor Venda</th>\n      <th>Produto</th>\n      <th>Fabricante</th>\n      <th>Marca</th>\n      <th>Classe</th>\n      <th>Cor</th>\n    </tr>\n  </thead>\n  <tbody>\n    <tr>\n      <th>0</th>\n      <td>2008-05-09</td>\n      <td>2008-05-29</td>\n      <td>199</td>\n      <td>384</td>\n      <td>18839</td>\n      <td>200805093CS607</td>\n      <td>348.58</td>\n      <td>758.00</td>\n      <td>6</td>\n      <td>0.00</td>\n      <td>4,548.00</td>\n      <td>Adventure Works Laptop15.4W M1548 Red</td>\n      <td>Adventure Works</td>\n      <td>Adventure Works</td>\n      <td>Regular</td>\n      <td>Red</td>\n    </tr>\n    <tr>\n      <th>1</th>\n      <td>2008-05-12</td>\n      <td>2008-05-17</td>\n      <td>306</td>\n      <td>384</td>\n      <td>19051</td>\n      <td>200805123CS567</td>\n      <td>348.58</td>\n      <td>758.00</td>\n      <td>6</td>\n      <td>0.00</td>\n      <td>4,548.00</td>\n      <td>Adventure Works Laptop15.4W M1548 Red</td>\n      <td>Adventure Works</td>\n      <td>Adventure Works</td>\n      <td>Regular</td>\n      <td>Red</td>\n    </tr>\n    <tr>\n      <th>2</th>\n      <td>2008-05-14</td>\n      <td>2008-05-20</td>\n      <td>306</td>\n      <td>384</td>\n      <td>19052</td>\n      <td>200805143CS576</td>\n      <td>348.58</td>\n      <td>758.00</td>\n      <td>6</td>\n      <td>0.00</td>\n      <td>4,548.00</td>\n      <td>Adventure Works Laptop15.4W M1548 Red</td>\n      <td>Adventure Works</td>\n      <td>Adventure Works</td>\n      <td>Regular</td>\n      <td>Red</td>\n    </tr>\n    <tr>\n      <th>3</th>\n      <td>2008-05-21</td>\n      <td>2008-05-27</td>\n      <td>306</td>\n      <td>384</td>\n      <td>19052</td>\n      <td>200805213CS576</td>\n      <td>348.58</td>\n      <td>758.00</td>\n      <td>6</td>\n      <td>0.00</td>\n      <td>4,548.00</td>\n      <td>Adventure Works Laptop15.4W M1548 Red</td>\n      <td>Adventure Works</td>\n      <td>Adventure Works</td>\n      <td>Regular</td>\n      <td>Red</td>\n    </tr>\n    <tr>\n      <th>4</th>\n      <td>2008-06-20</td>\n      <td>2008-06-27</td>\n      <td>306</td>\n      <td>384</td>\n      <td>19053</td>\n      <td>200806203CS586</td>\n      <td>348.58</td>\n      <td>758.00</td>\n      <td>6</td>\n      <td>0.00</td>\n      <td>4,548.00</td>\n      <td>Adventure Works Laptop15.4W M1548 Red</td>\n      <td>Adventure Works</td>\n      <td>Adventure Works</td>\n      <td>Regular</td>\n      <td>Red</td>\n    </tr>\n  </tbody>\n</table>\n</div>"
     },
     "execution_count": 196,
     "metadata": {},
     "output_type": "execute_result"
    }
   ],
   "source": [
    "# Observandos os dados\n",
    "df.head()"
   ],
   "metadata": {
    "collapsed": false,
    "pycharm": {
     "name": "#%%\n"
    }
   }
  },
  {
   "cell_type": "code",
   "execution_count": 197,
   "outputs": [
    {
     "data": {
      "text/plain": "(904, 16)"
     },
     "execution_count": 197,
     "metadata": {},
     "output_type": "execute_result"
    }
   ],
   "source": [
    "# Tamanho do DF\n",
    "df.shape"
   ],
   "metadata": {
    "collapsed": false,
    "pycharm": {
     "name": "#%%\n"
    }
   }
  },
  {
   "cell_type": "code",
   "execution_count": 198,
   "outputs": [
    {
     "data": {
      "text/plain": "                   ID Loja           ID Produto           ID Cliente  \\\ncount               904.00               904.00               904.00   \nmean                270.02             1,225.24            19,029.09   \nstd                  50.96               706.70                96.43   \nmin                 199.00               366.00            18,815.00   \n25%                 199.00               384.00            18,964.75   \n50%                 306.00             1,202.00            19,060.00   \n75%                 307.00             1,226.00            19,107.00   \nmax                 307.00             2,497.00            19,145.00   \n\n            Custo Unitário       Preço Unitário           Quantidade  \\\ncount               904.00               904.00               904.00   \nmean                272.01               742.53                62.95   \nstd                 129.77               368.59               148.95   \nmin                   5.09                 9.99                 2.00   \n25%                 324.69               758.00                 6.00   \n50%                 330.66               980.00                 9.00   \n75%                 348.58               998.00                17.00   \nmax                 348.58               999.00             1,560.00   \n\n            Valor Desconto          Valor Venda  \ncount               904.00               904.00  \nmean                689.12             6,620.14  \nstd                 822.36             4,319.41  \nmin                   0.00               159.84  \n25%                   0.00             3,920.00  \n50%                 461.17             5,798.70  \n75%               1,005.08             7,986.00  \nmax               6,272.00            29,400.00  ",
      "text/html": "<div>\n<style scoped>\n    .dataframe tbody tr th:only-of-type {\n        vertical-align: middle;\n    }\n\n    .dataframe tbody tr th {\n        vertical-align: top;\n    }\n\n    .dataframe thead th {\n        text-align: right;\n    }\n</style>\n<table border=\"1\" class=\"dataframe\">\n  <thead>\n    <tr style=\"text-align: right;\">\n      <th></th>\n      <th>ID Loja</th>\n      <th>ID Produto</th>\n      <th>ID Cliente</th>\n      <th>Custo Unitário</th>\n      <th>Preço Unitário</th>\n      <th>Quantidade</th>\n      <th>Valor Desconto</th>\n      <th>Valor Venda</th>\n    </tr>\n  </thead>\n  <tbody>\n    <tr>\n      <th>count</th>\n      <td>904.00</td>\n      <td>904.00</td>\n      <td>904.00</td>\n      <td>904.00</td>\n      <td>904.00</td>\n      <td>904.00</td>\n      <td>904.00</td>\n      <td>904.00</td>\n    </tr>\n    <tr>\n      <th>mean</th>\n      <td>270.02</td>\n      <td>1,225.24</td>\n      <td>19,029.09</td>\n      <td>272.01</td>\n      <td>742.53</td>\n      <td>62.95</td>\n      <td>689.12</td>\n      <td>6,620.14</td>\n    </tr>\n    <tr>\n      <th>std</th>\n      <td>50.96</td>\n      <td>706.70</td>\n      <td>96.43</td>\n      <td>129.77</td>\n      <td>368.59</td>\n      <td>148.95</td>\n      <td>822.36</td>\n      <td>4,319.41</td>\n    </tr>\n    <tr>\n      <th>min</th>\n      <td>199.00</td>\n      <td>366.00</td>\n      <td>18,815.00</td>\n      <td>5.09</td>\n      <td>9.99</td>\n      <td>2.00</td>\n      <td>0.00</td>\n      <td>159.84</td>\n    </tr>\n    <tr>\n      <th>25%</th>\n      <td>199.00</td>\n      <td>384.00</td>\n      <td>18,964.75</td>\n      <td>324.69</td>\n      <td>758.00</td>\n      <td>6.00</td>\n      <td>0.00</td>\n      <td>3,920.00</td>\n    </tr>\n    <tr>\n      <th>50%</th>\n      <td>306.00</td>\n      <td>1,202.00</td>\n      <td>19,060.00</td>\n      <td>330.66</td>\n      <td>980.00</td>\n      <td>9.00</td>\n      <td>461.17</td>\n      <td>5,798.70</td>\n    </tr>\n    <tr>\n      <th>75%</th>\n      <td>307.00</td>\n      <td>1,226.00</td>\n      <td>19,107.00</td>\n      <td>348.58</td>\n      <td>998.00</td>\n      <td>17.00</td>\n      <td>1,005.08</td>\n      <td>7,986.00</td>\n    </tr>\n    <tr>\n      <th>max</th>\n      <td>307.00</td>\n      <td>2,497.00</td>\n      <td>19,145.00</td>\n      <td>348.58</td>\n      <td>999.00</td>\n      <td>1,560.00</td>\n      <td>6,272.00</td>\n      <td>29,400.00</td>\n    </tr>\n  </tbody>\n</table>\n</div>"
     },
     "execution_count": 198,
     "metadata": {},
     "output_type": "execute_result"
    }
   ],
   "source": [
    "# Informações estatísticas do DF\n",
    "df.describe()"
   ],
   "metadata": {
    "collapsed": false,
    "pycharm": {
     "name": "#%%\n"
    }
   }
  },
  {
   "cell_type": "code",
   "execution_count": 199,
   "outputs": [
    {
     "data": {
      "text/plain": "Data Venda        datetime64[ns]\nData Envio        datetime64[ns]\nID Loja                    int64\nID Produto                 int64\nID Cliente                 int64\nNo. Venda                 object\nCusto Unitário           float64\nPreço Unitário           float64\nQuantidade                 int64\nValor Desconto           float64\nValor Venda              float64\nProduto                   object\nFabricante                object\nMarca                     object\nClasse                    object\nCor                       object\ndtype: object"
     },
     "execution_count": 199,
     "metadata": {},
     "output_type": "execute_result"
    }
   ],
   "source": [
    "# Verificando tipos das colunas\n",
    "df.dtypes"
   ],
   "metadata": {
    "collapsed": false,
    "pycharm": {
     "name": "#%%\n"
    }
   }
  },
  {
   "cell_type": "code",
   "execution_count": 200,
   "outputs": [],
   "source": [
    "# Modificando tipos dos ID\n",
    "df['ID Loja'] = df['ID Loja'].astype(object)\n",
    "df['ID Cliente'] = df['ID Cliente'].astype(object)\n",
    "df['ID Produto'] = df['ID Produto'].astype(object)"
   ],
   "metadata": {
    "collapsed": false,
    "pycharm": {
     "name": "#%%\n"
    }
   }
  },
  {
   "cell_type": "code",
   "execution_count": 201,
   "outputs": [
    {
     "data": {
      "text/plain": "Data Venda        datetime64[ns]\nData Envio        datetime64[ns]\nID Loja                   object\nID Produto                object\nID Cliente                object\nNo. Venda                 object\nCusto Unitário           float64\nPreço Unitário           float64\nQuantidade                 int64\nValor Desconto           float64\nValor Venda              float64\nProduto                   object\nFabricante                object\nMarca                     object\nClasse                    object\nCor                       object\ndtype: object"
     },
     "execution_count": 201,
     "metadata": {},
     "output_type": "execute_result"
    }
   ],
   "source": [
    "# Verificando se o valor do tipo foi alterado\n",
    "df.dtypes"
   ],
   "metadata": {
    "collapsed": false,
    "pycharm": {
     "name": "#%%\n"
    }
   }
  },
  {
   "cell_type": "code",
   "execution_count": 202,
   "outputs": [],
   "source": [
    "# Calculando o valor de receita total\n",
    "venda_total = df['Valor Venda'].sum()"
   ],
   "metadata": {
    "collapsed": false,
    "pycharm": {
     "name": "#%%\n"
    }
   }
  },
  {
   "cell_type": "code",
   "execution_count": 203,
   "outputs": [
    {
     "data": {
      "text/plain": "  Data Venda Data Envio ID Loja ID Produto ID Cliente       No. Venda  \\\n0 2008-05-09 2008-05-29     199        384      18839  200805093CS607   \n\n        Custo Unitário       Preço Unitário  Quantidade       Valor Desconto  \\\n0               348.58               758.00           6                 0.00   \n\n           Valor Venda                                Produto  \\\n0             4,548.00  Adventure Works Laptop15.4W M1548 Red   \n\n        Fabricante            Marca   Classe  Cor                Custo  \n0  Adventure Works  Adventure Works  Regular  Red             2,091.48  ",
      "text/html": "<div>\n<style scoped>\n    .dataframe tbody tr th:only-of-type {\n        vertical-align: middle;\n    }\n\n    .dataframe tbody tr th {\n        vertical-align: top;\n    }\n\n    .dataframe thead th {\n        text-align: right;\n    }\n</style>\n<table border=\"1\" class=\"dataframe\">\n  <thead>\n    <tr style=\"text-align: right;\">\n      <th></th>\n      <th>Data Venda</th>\n      <th>Data Envio</th>\n      <th>ID Loja</th>\n      <th>ID Produto</th>\n      <th>ID Cliente</th>\n      <th>No. Venda</th>\n      <th>Custo Unitário</th>\n      <th>Preço Unitário</th>\n      <th>Quantidade</th>\n      <th>Valor Desconto</th>\n      <th>Valor Venda</th>\n      <th>Produto</th>\n      <th>Fabricante</th>\n      <th>Marca</th>\n      <th>Classe</th>\n      <th>Cor</th>\n      <th>Custo</th>\n    </tr>\n  </thead>\n  <tbody>\n    <tr>\n      <th>0</th>\n      <td>2008-05-09</td>\n      <td>2008-05-29</td>\n      <td>199</td>\n      <td>384</td>\n      <td>18839</td>\n      <td>200805093CS607</td>\n      <td>348.58</td>\n      <td>758.00</td>\n      <td>6</td>\n      <td>0.00</td>\n      <td>4,548.00</td>\n      <td>Adventure Works Laptop15.4W M1548 Red</td>\n      <td>Adventure Works</td>\n      <td>Adventure Works</td>\n      <td>Regular</td>\n      <td>Red</td>\n      <td>2,091.48</td>\n    </tr>\n  </tbody>\n</table>\n</div>"
     },
     "execution_count": 203,
     "metadata": {},
     "output_type": "execute_result"
    }
   ],
   "source": [
    "# Qual foi o custo total de todas as vendas?\n",
    "df['Custo'] = df['Custo Unitário'].mul(df['Quantidade'])\n",
    "df.head(1)"
   ],
   "metadata": {
    "collapsed": false,
    "pycharm": {
     "name": "#%%\n"
    }
   }
  },
  {
   "cell_type": "code",
   "execution_count": 204,
   "outputs": [
    {
     "data": {
      "text/plain": "2486783.05"
     },
     "execution_count": 204,
     "metadata": {},
     "output_type": "execute_result"
    }
   ],
   "source": [
    "# Custo total de todas as vendas\n",
    "custo_total = df['Custo'].sum()\n",
    "custo_total"
   ],
   "metadata": {
    "collapsed": false,
    "pycharm": {
     "name": "#%%\n"
    }
   }
  },
  {
   "cell_type": "code",
   "execution_count": 205,
   "outputs": [
    {
     "data": {
      "text/plain": "  Data Venda Data Envio ID Loja ID Produto ID Cliente       No. Venda  \\\n0 2008-05-09 2008-05-29     199        384      18839  200805093CS607   \n\n        Custo Unitário       Preço Unitário  Quantidade       Valor Desconto  \\\n0               348.58               758.00           6                 0.00   \n\n           Valor Venda                                Produto  \\\n0             4,548.00  Adventure Works Laptop15.4W M1548 Red   \n\n        Fabricante            Marca   Classe  Cor                Custo  \\\n0  Adventure Works  Adventure Works  Regular  Red             2,091.48   \n\n             lucro (%)          lucro_venda  \n0                45.99             2,456.52  ",
      "text/html": "<div>\n<style scoped>\n    .dataframe tbody tr th:only-of-type {\n        vertical-align: middle;\n    }\n\n    .dataframe tbody tr th {\n        vertical-align: top;\n    }\n\n    .dataframe thead th {\n        text-align: right;\n    }\n</style>\n<table border=\"1\" class=\"dataframe\">\n  <thead>\n    <tr style=\"text-align: right;\">\n      <th></th>\n      <th>Data Venda</th>\n      <th>Data Envio</th>\n      <th>ID Loja</th>\n      <th>ID Produto</th>\n      <th>ID Cliente</th>\n      <th>No. Venda</th>\n      <th>Custo Unitário</th>\n      <th>Preço Unitário</th>\n      <th>Quantidade</th>\n      <th>Valor Desconto</th>\n      <th>Valor Venda</th>\n      <th>Produto</th>\n      <th>Fabricante</th>\n      <th>Marca</th>\n      <th>Classe</th>\n      <th>Cor</th>\n      <th>Custo</th>\n      <th>lucro (%)</th>\n      <th>lucro_venda</th>\n    </tr>\n  </thead>\n  <tbody>\n    <tr>\n      <th>0</th>\n      <td>2008-05-09</td>\n      <td>2008-05-29</td>\n      <td>199</td>\n      <td>384</td>\n      <td>18839</td>\n      <td>200805093CS607</td>\n      <td>348.58</td>\n      <td>758.00</td>\n      <td>6</td>\n      <td>0.00</td>\n      <td>4,548.00</td>\n      <td>Adventure Works Laptop15.4W M1548 Red</td>\n      <td>Adventure Works</td>\n      <td>Adventure Works</td>\n      <td>Regular</td>\n      <td>Red</td>\n      <td>2,091.48</td>\n      <td>45.99</td>\n      <td>2,456.52</td>\n    </tr>\n  </tbody>\n</table>\n</div>"
     },
     "execution_count": 205,
     "metadata": {},
     "output_type": "execute_result"
    }
   ],
   "source": [
    "# Criei a coluna de margem de lucro em valor e em %\n",
    "df['lucro (%)'] = (df['Custo'] * 100) / df['Valor Venda']\n",
    "df['lucro_venda'] = df['Valor Venda'] - df['Custo']\n",
    "df.head(1)"
   ],
   "metadata": {
    "collapsed": false,
    "pycharm": {
     "name": "#%%\n"
    }
   }
  },
  {
   "cell_type": "code",
   "execution_count": 206,
   "outputs": [
    {
     "data": {
      "text/plain": "41.55"
     },
     "execution_count": 206,
     "metadata": {},
     "output_type": "execute_result"
    }
   ],
   "source": [
    "# A margem de lucro total\n",
    "margem_lucro_total=(custo_total*100)/venda_total\n",
    "round(margem_lucro_total,2)"
   ],
   "metadata": {
    "collapsed": false,
    "pycharm": {
     "name": "#%%\n"
    }
   }
  },
  {
   "cell_type": "code",
   "execution_count": 207,
   "outputs": [
    {
     "data": {
      "text/plain": "3497823.09"
     },
     "execution_count": 207,
     "metadata": {},
     "output_type": "execute_result"
    }
   ],
   "source": [
    "# O lucro total\n",
    "lucro_total = venda_total - custo_total\n",
    "round(lucro_total,2)"
   ],
   "metadata": {
    "collapsed": false,
    "pycharm": {
     "name": "#%%\n"
    }
   }
  },
  {
   "cell_type": "code",
   "execution_count": 208,
   "outputs": [
    {
     "data": {
      "text/plain": "  Data Venda Data Envio ID Loja ID Produto ID Cliente       No. Venda  \\\n0 2008-05-09 2008-05-29     199        384      18839  200805093CS607   \n1 2008-05-12 2008-05-17     306        384      19051  200805123CS567   \n2 2008-05-14 2008-05-20     306        384      19052  200805143CS576   \n3 2008-05-21 2008-05-27     306        384      19052  200805213CS576   \n4 2008-06-20 2008-06-27     306        384      19053  200806203CS586   \n\n        Custo Unitário       Preço Unitário  Quantidade       Valor Desconto  \\\n0               348.58               758.00           6                 0.00   \n1               348.58               758.00           6                 0.00   \n2               348.58               758.00           6                 0.00   \n3               348.58               758.00           6                 0.00   \n4               348.58               758.00           6                 0.00   \n\n           Valor Venda                                Produto  \\\n0             4,548.00  Adventure Works Laptop15.4W M1548 Red   \n1             4,548.00  Adventure Works Laptop15.4W M1548 Red   \n2             4,548.00  Adventure Works Laptop15.4W M1548 Red   \n3             4,548.00  Adventure Works Laptop15.4W M1548 Red   \n4             4,548.00  Adventure Works Laptop15.4W M1548 Red   \n\n        Fabricante            Marca   Classe  Cor                Custo  \\\n0  Adventure Works  Adventure Works  Regular  Red             2,091.48   \n1  Adventure Works  Adventure Works  Regular  Red             2,091.48   \n2  Adventure Works  Adventure Works  Regular  Red             2,091.48   \n3  Adventure Works  Adventure Works  Regular  Red             2,091.48   \n4  Adventure Works  Adventure Works  Regular  Red             2,091.48   \n\n             lucro (%)          lucro_venda  Tempo de envio  \n0                45.99             2,456.52              20  \n1                45.99             2,456.52               5  \n2                45.99             2,456.52               6  \n3                45.99             2,456.52               6  \n4                45.99             2,456.52               7  ",
      "text/html": "<div>\n<style scoped>\n    .dataframe tbody tr th:only-of-type {\n        vertical-align: middle;\n    }\n\n    .dataframe tbody tr th {\n        vertical-align: top;\n    }\n\n    .dataframe thead th {\n        text-align: right;\n    }\n</style>\n<table border=\"1\" class=\"dataframe\">\n  <thead>\n    <tr style=\"text-align: right;\">\n      <th></th>\n      <th>Data Venda</th>\n      <th>Data Envio</th>\n      <th>ID Loja</th>\n      <th>ID Produto</th>\n      <th>ID Cliente</th>\n      <th>No. Venda</th>\n      <th>Custo Unitário</th>\n      <th>Preço Unitário</th>\n      <th>Quantidade</th>\n      <th>Valor Desconto</th>\n      <th>Valor Venda</th>\n      <th>Produto</th>\n      <th>Fabricante</th>\n      <th>Marca</th>\n      <th>Classe</th>\n      <th>Cor</th>\n      <th>Custo</th>\n      <th>lucro (%)</th>\n      <th>lucro_venda</th>\n      <th>Tempo de envio</th>\n    </tr>\n  </thead>\n  <tbody>\n    <tr>\n      <th>0</th>\n      <td>2008-05-09</td>\n      <td>2008-05-29</td>\n      <td>199</td>\n      <td>384</td>\n      <td>18839</td>\n      <td>200805093CS607</td>\n      <td>348.58</td>\n      <td>758.00</td>\n      <td>6</td>\n      <td>0.00</td>\n      <td>4,548.00</td>\n      <td>Adventure Works Laptop15.4W M1548 Red</td>\n      <td>Adventure Works</td>\n      <td>Adventure Works</td>\n      <td>Regular</td>\n      <td>Red</td>\n      <td>2,091.48</td>\n      <td>45.99</td>\n      <td>2,456.52</td>\n      <td>20</td>\n    </tr>\n    <tr>\n      <th>1</th>\n      <td>2008-05-12</td>\n      <td>2008-05-17</td>\n      <td>306</td>\n      <td>384</td>\n      <td>19051</td>\n      <td>200805123CS567</td>\n      <td>348.58</td>\n      <td>758.00</td>\n      <td>6</td>\n      <td>0.00</td>\n      <td>4,548.00</td>\n      <td>Adventure Works Laptop15.4W M1548 Red</td>\n      <td>Adventure Works</td>\n      <td>Adventure Works</td>\n      <td>Regular</td>\n      <td>Red</td>\n      <td>2,091.48</td>\n      <td>45.99</td>\n      <td>2,456.52</td>\n      <td>5</td>\n    </tr>\n    <tr>\n      <th>2</th>\n      <td>2008-05-14</td>\n      <td>2008-05-20</td>\n      <td>306</td>\n      <td>384</td>\n      <td>19052</td>\n      <td>200805143CS576</td>\n      <td>348.58</td>\n      <td>758.00</td>\n      <td>6</td>\n      <td>0.00</td>\n      <td>4,548.00</td>\n      <td>Adventure Works Laptop15.4W M1548 Red</td>\n      <td>Adventure Works</td>\n      <td>Adventure Works</td>\n      <td>Regular</td>\n      <td>Red</td>\n      <td>2,091.48</td>\n      <td>45.99</td>\n      <td>2,456.52</td>\n      <td>6</td>\n    </tr>\n    <tr>\n      <th>3</th>\n      <td>2008-05-21</td>\n      <td>2008-05-27</td>\n      <td>306</td>\n      <td>384</td>\n      <td>19052</td>\n      <td>200805213CS576</td>\n      <td>348.58</td>\n      <td>758.00</td>\n      <td>6</td>\n      <td>0.00</td>\n      <td>4,548.00</td>\n      <td>Adventure Works Laptop15.4W M1548 Red</td>\n      <td>Adventure Works</td>\n      <td>Adventure Works</td>\n      <td>Regular</td>\n      <td>Red</td>\n      <td>2,091.48</td>\n      <td>45.99</td>\n      <td>2,456.52</td>\n      <td>6</td>\n    </tr>\n    <tr>\n      <th>4</th>\n      <td>2008-06-20</td>\n      <td>2008-06-27</td>\n      <td>306</td>\n      <td>384</td>\n      <td>19053</td>\n      <td>200806203CS586</td>\n      <td>348.58</td>\n      <td>758.00</td>\n      <td>6</td>\n      <td>0.00</td>\n      <td>4,548.00</td>\n      <td>Adventure Works Laptop15.4W M1548 Red</td>\n      <td>Adventure Works</td>\n      <td>Adventure Works</td>\n      <td>Regular</td>\n      <td>Red</td>\n      <td>2,091.48</td>\n      <td>45.99</td>\n      <td>2,456.52</td>\n      <td>7</td>\n    </tr>\n  </tbody>\n</table>\n</div>"
     },
     "execution_count": 208,
     "metadata": {},
     "output_type": "execute_result"
    }
   ],
   "source": [
    "# Qual o tempo de envio do produto?\n",
    "df['Tempo de envio'] = (df['Data Envio'] - df['Data Venda']).dt.days\n",
    "df.head()"
   ],
   "metadata": {
    "collapsed": false,
    "pycharm": {
     "name": "#%%\n"
    }
   }
  },
  {
   "cell_type": "code",
   "execution_count": 209,
   "outputs": [
    {
     "data": {
      "text/plain": "8.54"
     },
     "execution_count": 209,
     "metadata": {},
     "output_type": "execute_result"
    }
   ],
   "source": [
    "# Média de tempo de envio de todas as marcas\n",
    "tempo_medio = df['Tempo de envio'].mean()\n",
    "round(tempo_medio,2)"
   ],
   "metadata": {
    "collapsed": false,
    "pycharm": {
     "name": "#%%\n"
    }
   }
  },
  {
   "cell_type": "code",
   "execution_count": 210,
   "outputs": [
    {
     "data": {
      "text/plain": "Marca\nAdventure Works                   8.66\nContoso                           8.47\nFabrikam                          8.51\nName: Tempo de envio, dtype: float64"
     },
     "execution_count": 210,
     "metadata": {},
     "output_type": "execute_result"
    }
   ],
   "source": [
    "#  Média de tempo de envio por marca\n",
    "df.groupby('Marca')['Tempo de envio'].mean()"
   ],
   "metadata": {
    "collapsed": false,
    "pycharm": {
     "name": "#%%\n"
    }
   }
  },
  {
   "cell_type": "code",
   "execution_count": 211,
   "outputs": [
    {
     "data": {
      "text/plain": "Data Venda        0\nData Envio        0\nID Loja           0\nID Produto        0\nID Cliente        0\nNo. Venda         0\nCusto Unitário    0\nPreço Unitário    0\nQuantidade        0\nValor Desconto    0\nValor Venda       0\nProduto           0\nFabricante        0\nMarca             0\nClasse            0\nCor               0\nCusto             0\nlucro (%)         0\nlucro_venda       0\nTempo de envio    0\ndtype: int64"
     },
     "execution_count": 211,
     "metadata": {},
     "output_type": "execute_result"
    }
   ],
   "source": [
    "# Verificando valores ausentes\n",
    "df.isnull().sum()"
   ],
   "metadata": {
    "collapsed": false,
    "pycharm": {
     "name": "#%%\n"
    }
   }
  },
  {
   "cell_type": "code",
   "execution_count": 212,
   "outputs": [
    {
     "data": {
      "text/plain": "Data Venda  Marca          \n2008        Adventure Works             306,641.16\n            Contoso                      56,416.00\n            Fabrikam                  1,557,020.55\n2009        Adventure Works             405,395.08\n            Contoso                     138,258.95\n            Fabrikam                  1,034,091.35\nName: lucro_venda, dtype: float64"
     },
     "execution_count": 212,
     "metadata": {},
     "output_type": "execute_result"
    }
   ],
   "source": [
    "# Agrupamento de lucro por ano e marca\n",
    "df.groupby([df['Data Venda'].dt.year, \"Marca\"])['lucro_venda'].sum()"
   ],
   "metadata": {
    "collapsed": false,
    "pycharm": {
     "name": "#%%\n"
    }
   }
  },
  {
   "cell_type": "code",
   "execution_count": 213,
   "outputs": [],
   "source": [
    "# Conversão do formato Float\n",
    "pd.options.display.float_format = '{:20,.2f}'.format"
   ],
   "metadata": {
    "collapsed": false,
    "pycharm": {
     "name": "#%%\n"
    }
   }
  },
  {
   "cell_type": "code",
   "execution_count": 214,
   "outputs": [
    {
     "data": {
      "text/plain": "   Data Venda            Marca          lucro_venda\n0        2008  Adventure Works           306,641.16\n1        2008          Contoso            56,416.00\n2        2008         Fabrikam         1,557,020.55\n3        2009  Adventure Works           405,395.08\n4        2009          Contoso           138,258.95\n5        2009         Fabrikam         1,034,091.35",
      "text/html": "<div>\n<style scoped>\n    .dataframe tbody tr th:only-of-type {\n        vertical-align: middle;\n    }\n\n    .dataframe tbody tr th {\n        vertical-align: top;\n    }\n\n    .dataframe thead th {\n        text-align: right;\n    }\n</style>\n<table border=\"1\" class=\"dataframe\">\n  <thead>\n    <tr style=\"text-align: right;\">\n      <th></th>\n      <th>Data Venda</th>\n      <th>Marca</th>\n      <th>lucro_venda</th>\n    </tr>\n  </thead>\n  <tbody>\n    <tr>\n      <th>0</th>\n      <td>2008</td>\n      <td>Adventure Works</td>\n      <td>306,641.16</td>\n    </tr>\n    <tr>\n      <th>1</th>\n      <td>2008</td>\n      <td>Contoso</td>\n      <td>56,416.00</td>\n    </tr>\n    <tr>\n      <th>2</th>\n      <td>2008</td>\n      <td>Fabrikam</td>\n      <td>1,557,020.55</td>\n    </tr>\n    <tr>\n      <th>3</th>\n      <td>2009</td>\n      <td>Adventure Works</td>\n      <td>405,395.08</td>\n    </tr>\n    <tr>\n      <th>4</th>\n      <td>2009</td>\n      <td>Contoso</td>\n      <td>138,258.95</td>\n    </tr>\n    <tr>\n      <th>5</th>\n      <td>2009</td>\n      <td>Fabrikam</td>\n      <td>1,034,091.35</td>\n    </tr>\n  </tbody>\n</table>\n</div>"
     },
     "execution_count": 214,
     "metadata": {},
     "output_type": "execute_result"
    }
   ],
   "source": [
    "# Resetando index\n",
    "lucro_ano = df.groupby([df['Data Venda'].dt.year, 'Marca'])['lucro_venda'].sum().reset_index()\n",
    "lucro_ano"
   ],
   "metadata": {
    "collapsed": false,
    "pycharm": {
     "name": "#%%\n"
    }
   }
  },
  {
   "cell_type": "code",
   "execution_count": 215,
   "outputs": [
    {
     "data": {
      "text/plain": "Produto\nHeadphone Adapter for Contoso Phone E130 Silver    25232\nHeadphone Adapter for Contoso Phone E130 White     25008\nAdventure Works Laptop15.4W M1548 Black             1089\nFabrikam Trendsetter 2/3'' 17mm X100 Grey           1087\nAdventure Works Laptop15.4W M1548 Red               1047\nFabrikam Trendsetter 2/3'' 17mm X100 Black           926\nFabrikam Trendsetter 1/3'' 8.5mm X200 Black          884\nFabrikam Trendsetter 1/3'' 8.5mm X200 Grey           845\nFabrikam Trendsetter 1/3'' 8.5mm X200 White          789\nName: Quantidade, dtype: int64"
     },
     "execution_count": 215,
     "metadata": {},
     "output_type": "execute_result"
    }
   ],
   "source": [
    "# Qual o total de produtos vendidos?\n",
    "df.groupby('Produto')['Quantidade'].sum().sort_values(ascending=False)"
   ],
   "metadata": {
    "collapsed": false,
    "pycharm": {
     "name": "#%%\n"
    }
   }
  },
  {
   "cell_type": "code",
   "execution_count": 216,
   "outputs": [
    {
     "data": {
      "text/plain": "<Figure size 432x288 with 1 Axes>",
      "image/png": "[encoded data removed]"
     },
     "metadata": {
      "needs_background": "light"
     },
     "output_type": "display_data"
    }
   ],
   "source": [
    "# Gráfico total de produtos vendidos\n",
    "\n",
    "df.groupby('Produto')['Quantidade'].sum().plot.barh(title='Gráfico total de produtos vendidos', color='red')\n",
    "plt.xlabel('Quantidade');"
   ],
   "metadata": {
    "collapsed": false,
    "pycharm": {
     "name": "#%%\n"
    }
   }
  },
  {
   "cell_type": "code",
   "execution_count": 217,
   "outputs": [
    {
     "data": {
      "text/plain": "<Figure size 432x288 with 1 Axes>",
      "image/png": "[encoded data removed]"
     },
     "metadata": {
      "needs_background": "light"
     },
     "output_type": "display_data"
    }
   ],
   "source": [
    "df.groupby(df['Data Venda'].dt.year)['lucro_venda'].sum().plot.bar(title='Lucro venda x Ano', color='green')\n",
    "plt.xlabel('Ano')\n",
    "plt.ylabel('Receita');"
   ],
   "metadata": {
    "collapsed": false,
    "pycharm": {
     "name": "#%%\n"
    }
   }
  },
  {
   "cell_type": "code",
   "execution_count": 218,
   "outputs": [
    {
     "data": {
      "text/plain": "Data Venda\n2008           1,920,077.71\n2009           1,577,745.38\nName: lucro_venda, dtype: float64"
     },
     "execution_count": 218,
     "metadata": {},
     "output_type": "execute_result"
    }
   ],
   "source": [
    "df.groupby(df['Data Venda'].dt.year)['lucro_venda'].sum()"
   ],
   "metadata": {
    "collapsed": false,
    "pycharm": {
     "name": "#%%\n"
    }
   }
  },
  {
   "cell_type": "code",
   "execution_count": 219,
   "outputs": [
    {
     "data": {
      "text/plain": "   Data Venda Data Envio ID Loja ID Produto ID Cliente       No. Venda  \\\n11 2009-05-02 2009-05-14     199        384      18938  200905023CS847   \n12 2009-05-16 2009-05-27     306        384      19067  200905163CS746   \n13 2009-05-31 2009-06-12     306        384      19068  200905313CS748   \n14 2009-06-28 2009-07-11     199        384      18959  200906283CS870   \n15 2009-07-08 2009-07-12     306        384      19070  200907083CS757   \n\n         Custo Unitário       Preço Unitário  Quantidade       Valor Desconto  \\\n11               348.58               758.00           6                 0.00   \n12               348.58               758.00           6                 0.00   \n13               348.58               758.00           6                 0.00   \n14               348.58               758.00           6                 0.00   \n15               348.58               758.00           6                 0.00   \n\n            Valor Venda                                Produto  \\\n11             4,548.00  Adventure Works Laptop15.4W M1548 Red   \n12             4,548.00  Adventure Works Laptop15.4W M1548 Red   \n13             4,548.00  Adventure Works Laptop15.4W M1548 Red   \n14             4,548.00  Adventure Works Laptop15.4W M1548 Red   \n15             4,548.00  Adventure Works Laptop15.4W M1548 Red   \n\n         Fabricante            Marca   Classe  Cor                Custo  \\\n11  Adventure Works  Adventure Works  Regular  Red             2,091.48   \n12  Adventure Works  Adventure Works  Regular  Red             2,091.48   \n13  Adventure Works  Adventure Works  Regular  Red             2,091.48   \n14  Adventure Works  Adventure Works  Regular  Red             2,091.48   \n15  Adventure Works  Adventure Works  Regular  Red             2,091.48   \n\n              lucro (%)          lucro_venda  Tempo de envio  \n11                45.99             2,456.52              12  \n12                45.99             2,456.52              11  \n13                45.99             2,456.52              12  \n14                45.99             2,456.52              13  \n15                45.99             2,456.52               4  ",
      "text/html": "<div>\n<style scoped>\n    .dataframe tbody tr th:only-of-type {\n        vertical-align: middle;\n    }\n\n    .dataframe tbody tr th {\n        vertical-align: top;\n    }\n\n    .dataframe thead th {\n        text-align: right;\n    }\n</style>\n<table border=\"1\" class=\"dataframe\">\n  <thead>\n    <tr style=\"text-align: right;\">\n      <th></th>\n      <th>Data Venda</th>\n      <th>Data Envio</th>\n      <th>ID Loja</th>\n      <th>ID Produto</th>\n      <th>ID Cliente</th>\n      <th>No. Venda</th>\n      <th>Custo Unitário</th>\n      <th>Preço Unitário</th>\n      <th>Quantidade</th>\n      <th>Valor Desconto</th>\n      <th>Valor Venda</th>\n      <th>Produto</th>\n      <th>Fabricante</th>\n      <th>Marca</th>\n      <th>Classe</th>\n      <th>Cor</th>\n      <th>Custo</th>\n      <th>lucro (%)</th>\n      <th>lucro_venda</th>\n      <th>Tempo de envio</th>\n    </tr>\n  </thead>\n  <tbody>\n    <tr>\n      <th>11</th>\n      <td>2009-05-02</td>\n      <td>2009-05-14</td>\n      <td>199</td>\n      <td>384</td>\n      <td>18938</td>\n      <td>200905023CS847</td>\n      <td>348.58</td>\n      <td>758.00</td>\n      <td>6</td>\n      <td>0.00</td>\n      <td>4,548.00</td>\n      <td>Adventure Works Laptop15.4W M1548 Red</td>\n      <td>Adventure Works</td>\n      <td>Adventure Works</td>\n      <td>Regular</td>\n      <td>Red</td>\n      <td>2,091.48</td>\n      <td>45.99</td>\n      <td>2,456.52</td>\n      <td>12</td>\n    </tr>\n    <tr>\n      <th>12</th>\n      <td>2009-05-16</td>\n      <td>2009-05-27</td>\n      <td>306</td>\n      <td>384</td>\n      <td>19067</td>\n      <td>200905163CS746</td>\n      <td>348.58</td>\n      <td>758.00</td>\n      <td>6</td>\n      <td>0.00</td>\n      <td>4,548.00</td>\n      <td>Adventure Works Laptop15.4W M1548 Red</td>\n      <td>Adventure Works</td>\n      <td>Adventure Works</td>\n      <td>Regular</td>\n      <td>Red</td>\n      <td>2,091.48</td>\n      <td>45.99</td>\n      <td>2,456.52</td>\n      <td>11</td>\n    </tr>\n    <tr>\n      <th>13</th>\n      <td>2009-05-31</td>\n      <td>2009-06-12</td>\n      <td>306</td>\n      <td>384</td>\n      <td>19068</td>\n      <td>200905313CS748</td>\n      <td>348.58</td>\n      <td>758.00</td>\n      <td>6</td>\n      <td>0.00</td>\n      <td>4,548.00</td>\n      <td>Adventure Works Laptop15.4W M1548 Red</td>\n      <td>Adventure Works</td>\n      <td>Adventure Works</td>\n      <td>Regular</td>\n      <td>Red</td>\n      <td>2,091.48</td>\n      <td>45.99</td>\n      <td>2,456.52</td>\n      <td>12</td>\n    </tr>\n    <tr>\n      <th>14</th>\n      <td>2009-06-28</td>\n      <td>2009-07-11</td>\n      <td>199</td>\n      <td>384</td>\n      <td>18959</td>\n      <td>200906283CS870</td>\n      <td>348.58</td>\n      <td>758.00</td>\n      <td>6</td>\n      <td>0.00</td>\n      <td>4,548.00</td>\n      <td>Adventure Works Laptop15.4W M1548 Red</td>\n      <td>Adventure Works</td>\n      <td>Adventure Works</td>\n      <td>Regular</td>\n      <td>Red</td>\n      <td>2,091.48</td>\n      <td>45.99</td>\n      <td>2,456.52</td>\n      <td>13</td>\n    </tr>\n    <tr>\n      <th>15</th>\n      <td>2009-07-08</td>\n      <td>2009-07-12</td>\n      <td>306</td>\n      <td>384</td>\n      <td>19070</td>\n      <td>200907083CS757</td>\n      <td>348.58</td>\n      <td>758.00</td>\n      <td>6</td>\n      <td>0.00</td>\n      <td>4,548.00</td>\n      <td>Adventure Works Laptop15.4W M1548 Red</td>\n      <td>Adventure Works</td>\n      <td>Adventure Works</td>\n      <td>Regular</td>\n      <td>Red</td>\n      <td>2,091.48</td>\n      <td>45.99</td>\n      <td>2,456.52</td>\n      <td>4</td>\n    </tr>\n  </tbody>\n</table>\n</div>"
     },
     "execution_count": 219,
     "metadata": {},
     "output_type": "execute_result"
    }
   ],
   "source": [
    "# Selecionando as vendas de 2009\n",
    "df_2009 = df[df['Data Venda'].dt.year == 2009]\n",
    "df_2009.head()"
   ],
   "metadata": {
    "collapsed": false,
    "pycharm": {
     "name": "#%%\n"
    }
   }
  },
  {
   "cell_type": "code",
   "execution_count": 220,
   "outputs": [
    {
     "data": {
      "text/plain": "<Figure size 432x288 with 1 Axes>",
      "image/png": "[encoded data removed]"
     },
     "metadata": {
      "needs_background": "light"
     },
     "output_type": "display_data"
    }
   ],
   "source": [
    "# Gráfico de linha que dá o lucro por mês do ano de 2009\n",
    "\n",
    "df_2009.groupby(df_2009['Data Venda'].dt.month)['lucro_venda'].sum().plot(title='Ano 2009  - Lucro x Mês')\n",
    "plt.ylabel('Lucro')\n",
    "plt.xlabel('Mês');"
   ],
   "metadata": {
    "collapsed": false,
    "pycharm": {
     "name": "#%%\n"
    }
   }
  },
  {
   "cell_type": "code",
   "execution_count": 221,
   "outputs": [
    {
     "data": {
      "text/plain": "<Figure size 432x288 with 1 Axes>",
      "image/png": "[encoded data removed]"
     },
     "metadata": {
      "needs_background": "light"
     },
     "output_type": "display_data"
    }
   ],
   "source": [
    "# Gráfico de lucro por marca em 2009\n",
    "df_2009.groupby('Marca')['lucro_venda'].sum().plot.bar(title='Lucro x marca Ano 2009', color='blue')\n",
    "plt.xlabel('Marca')\n",
    "plt.ylabel('Lucro')\n",
    "plt.xticks(rotation='horizontal');"
   ],
   "metadata": {
    "collapsed": false,
    "pycharm": {
     "name": "#%%\n"
    }
   }
  },
  {
   "cell_type": "code",
   "execution_count": 222,
   "outputs": [
    {
     "data": {
      "text/plain": "<Figure size 432x288 with 1 Axes>",
      "image/png": "[encoded data removed]"
     },
     "metadata": {
      "needs_background": "light"
     },
     "output_type": "display_data"
    }
   ],
   "source": [
    "# Gráfico de lucro por classe em 2009\n",
    "df_2009.groupby('Classe')['lucro_venda'].sum().plot.bar(title='Lucro x Classe em 2009', color ='orange')\n",
    "plt.xlabel('Classe')\n",
    "plt.ylabel('Lucro');"
   ],
   "metadata": {
    "collapsed": false,
    "pycharm": {
     "name": "#%%\n"
    }
   }
  },
  {
   "cell_type": "code",
   "execution_count": 223,
   "outputs": [
    {
     "data": {
      "text/plain": "count                 904.00\nmean                    8.54\nstd                     3.06\nmin                     4.00\n25%                     6.00\n50%                     9.00\n75%                    11.00\nmax                    20.00\nName: Tempo de envio, dtype: float64"
     },
     "execution_count": 223,
     "metadata": {},
     "output_type": "execute_result"
    }
   ],
   "source": [
    "# Descrição estatística dos dados\n",
    "df['Tempo de envio'].describe()"
   ],
   "metadata": {
    "collapsed": false,
    "pycharm": {
     "name": "#%%\n"
    }
   }
  },
  {
   "cell_type": "code",
   "execution_count": 224,
   "outputs": [
    {
     "data": {
      "text/plain": "<Figure size 432x288 with 1 Axes>",
      "image/png": "[encoded data removed]"
     },
     "metadata": {
      "needs_background": "light"
     },
     "output_type": "display_data"
    }
   ],
   "source": [
    "# Gráfico boxplot de tempo de envio - verificar outliers\n",
    "plt.boxplot(df['Tempo de envio']);"
   ],
   "metadata": {
    "collapsed": false,
    "pycharm": {
     "name": "#%%\n"
    }
   }
  },
  {
   "cell_type": "code",
   "execution_count": 225,
   "outputs": [
    {
     "data": {
      "text/plain": "<Figure size 432x288 with 1 Axes>",
      "image/png": "[encoded data removed]"
     },
     "metadata": {
      "needs_background": "light"
     },
     "output_type": "display_data"
    }
   ],
   "source": [
    "# Histograma\n",
    "plt.hist(df['Tempo de envio'], bins=6);"
   ],
   "metadata": {
    "collapsed": false,
    "pycharm": {
     "name": "#%%\n"
    }
   }
  },
  {
   "cell_type": "code",
   "execution_count": 226,
   "outputs": [
    {
     "data": {
      "text/plain": "  Data Venda Data Envio ID Loja ID Produto ID Cliente       No. Venda  \\\n0 2008-05-09 2008-05-29     199        384      18839  200805093CS607   \n\n        Custo Unitário       Preço Unitário  Quantidade       Valor Desconto  \\\n0               348.58               758.00           6                 0.00   \n\n           Valor Venda                                Produto  \\\n0             4,548.00  Adventure Works Laptop15.4W M1548 Red   \n\n        Fabricante            Marca   Classe  Cor                Custo  \\\n0  Adventure Works  Adventure Works  Regular  Red             2,091.48   \n\n             lucro (%)          lucro_venda  Tempo de envio  \n0                45.99             2,456.52              20  ",
      "text/html": "<div>\n<style scoped>\n    .dataframe tbody tr th:only-of-type {\n        vertical-align: middle;\n    }\n\n    .dataframe tbody tr th {\n        vertical-align: top;\n    }\n\n    .dataframe thead th {\n        text-align: right;\n    }\n</style>\n<table border=\"1\" class=\"dataframe\">\n  <thead>\n    <tr style=\"text-align: right;\">\n      <th></th>\n      <th>Data Venda</th>\n      <th>Data Envio</th>\n      <th>ID Loja</th>\n      <th>ID Produto</th>\n      <th>ID Cliente</th>\n      <th>No. Venda</th>\n      <th>Custo Unitário</th>\n      <th>Preço Unitário</th>\n      <th>Quantidade</th>\n      <th>Valor Desconto</th>\n      <th>Valor Venda</th>\n      <th>Produto</th>\n      <th>Fabricante</th>\n      <th>Marca</th>\n      <th>Classe</th>\n      <th>Cor</th>\n      <th>Custo</th>\n      <th>lucro (%)</th>\n      <th>lucro_venda</th>\n      <th>Tempo de envio</th>\n    </tr>\n  </thead>\n  <tbody>\n    <tr>\n      <th>0</th>\n      <td>2008-05-09</td>\n      <td>2008-05-29</td>\n      <td>199</td>\n      <td>384</td>\n      <td>18839</td>\n      <td>200805093CS607</td>\n      <td>348.58</td>\n      <td>758.00</td>\n      <td>6</td>\n      <td>0.00</td>\n      <td>4,548.00</td>\n      <td>Adventure Works Laptop15.4W M1548 Red</td>\n      <td>Adventure Works</td>\n      <td>Adventure Works</td>\n      <td>Regular</td>\n      <td>Red</td>\n      <td>2,091.48</td>\n      <td>45.99</td>\n      <td>2,456.52</td>\n      <td>20</td>\n    </tr>\n  </tbody>\n</table>\n</div>"
     },
     "execution_count": 226,
     "metadata": {},
     "output_type": "execute_result"
    }
   ],
   "source": [
    "# Indentificando o Outliers\n",
    "df[df['Tempo de envio'] == 20]"
   ],
   "metadata": {
    "collapsed": false,
    "pycharm": {
     "name": "#%%\n"
    }
   }
  },
  {
   "cell_type": "code",
   "execution_count": 230,
   "outputs": [
    {
     "data": {
      "text/plain": "<Figure size 432x288 with 1 Axes>",
      "image/png": "[encoded data removed]"
     },
     "metadata": {
      "needs_background": "light"
     },
     "output_type": "display_data"
    }
   ],
   "source": [
    "# Modificando o outlier com um valor da mediana\n",
    "df.loc[df['Tempo de envio'] == 20] = 9\n",
    "plt.boxplot(df['Tempo de envio'],vert=False, notch = True, patch_artist=True);"
   ],
   "metadata": {
    "collapsed": false,
    "pycharm": {
     "name": "#%%\n"
    }
   }
  },
  {
   "cell_type": "code",
   "execution_count": 228,
   "outputs": [],
   "source": [
    "df.to_csv(\"df_vendas_novo.csv\", index=False)"
   ],
   "metadata": {
    "collapsed": false,
    "pycharm": {
     "name": "#%%\n"
    }
   }
  },
  {
   "cell_type": "code",
   "execution_count": 228,
   "outputs": [],
   "source": [],
   "metadata": {
    "collapsed": false,
    "pycharm": {
     "name": "#%%\n"
    }
   }
  }
 ],
 "metadata": {
  "kernelspec": {
   "display_name": "Python 3",
   "language": "python",
   "name": "python3"
  },
  "language_info": {
   "codemirror_mode": {
    "name": "ipython",
    "version": 2
   },
   "file_extension": ".py",
   "mimetype": "text/x-python",
   "name": "python",
   "nbconvert_exporter": "python",
   "pygments_lexer": "ipython2",
   "version": "2.7.6"
  }
 },
 "nbformat": 4,
 "nbformat_minor": 0
}